{
 "cells": [
  {
   "cell_type": "markdown",
   "metadata": {},
   "source": [
    "# Import data\n",
    "Using: utf8 and latin-1"
   ]
  },
  {
   "cell_type": "code",
   "execution_count": null,
   "metadata": {
    "collapsed": true
   },
   "outputs": [],
   "source": [
    "\n",
    "import pandas as pd\n",
    "import numpy as np\n",
    "import matplotlib.pyplot as plt\n",
    "import seaborn as sns\n",
    "from scipy import stats\n",
    "from sklearn.tree import DecisionTreeClassifier\n",
    "from sklearn.ensemble import RandomForestClassifier\n",
    "from sklearn.metrics import classification_report, confusion_matrix\n",
    "from sklearn.datasets import fetch_20newsgroups_vectorized\n",
    "from sklearn.feature_selection import chi2\n",
    "from sklearn.feature_selection import RFE\n",
    "from sklearn.ensemble import ExtraTreesClassifier\n",
    "from sklearn import datasets\n",
    "from sklearn import metrics\n",
    "import types\n",
    "from sklearn.manifold import TSNE\n",
    "import plotly.graph_objs as go\n",
    "from plotly.offline import download_plotlyjs, init_notebook_mode, plot, iplot\n",
    "init_notebook_mode(connected=True)\n",
    "%matplotlib inline\n",
    "\n",
    "import seaborn as sns\n",
    "sns.set(style=\"whitegrid\", palette=\"muted\")\n",
    "current_palette = sns.color_palette()\n",
    "\n",
    "from subprocess import check_output\n",
    "print(check_output([\"ls\", \"../input\"]).decode(\"utf8\"))\n",
    "\n",
    "data_path = \"../input/\"\n",
    "df = pd.read_csv(data_path+\"Chemical_Toxicities_Blended_Flattened_Boolean.csv\", encoding='latin-1')\n",
    "df.head()"
   ]
  },
  {
   "cell_type": "markdown",
   "metadata": {},
   "source": [
    "# Feature Design"
   ]
  },
  {
   "cell_type": "code",
   "execution_count": null,
   "metadata": {
    "collapsed": true
   },
   "outputs": [],
   "source": [
    "# check for benzene ring\n",
    "def benz(chem):\n",
    "    if 'ben' in chem.lower():\n",
    "        return(True)\n",
    "    else:\n",
    "        return(False)\n",
    "\n",
    "# check for phenol\n",
    "def phen(chem1):\n",
    "    if 'phen' in chem1.lower():\n",
    "        return(True)\n",
    "    else:\n",
    "        return(False)\n",
    "    \n",
    "# check for nitro\n",
    "def nitr(chem2):\n",
    "    if 'nitro' in chem2.lower():\n",
    "        return(True)\n",
    "    else:\n",
    "        return(False)\n",
    "\n",
    "# check for cyclohexene\n",
    "def cycl(chem3):\n",
    "    if 'cyclohexene' in chem3.lower():\n",
    "        return(True)\n",
    "    else:\n",
    "        return(False)\n",
    "\n",
    "# check for chlorine\n",
    "def chl(chem4):\n",
    "    if 'chlor' in chem4.lower():\n",
    "        return(True)\n",
    "    else:\n",
    "        return(False)\n",
    "    \n",
    "# check for HYDRAZINE\n",
    "def hyd(chem5):\n",
    "    if 'hydrazine' in chem5.lower():\n",
    "        return(True)\n",
    "    else:\n",
    "        return(False)\n",
    "    \n",
    "# check for nickel\n",
    "def nic(chem6):\n",
    "    if 'nickel'in chem6.lower():\n",
    "        return(True)\n",
    "    else:\n",
    "        return(False)\n",
    "    \n",
    "# check for PIPERIDINE\n",
    "def pip(chem7):\n",
    "    if 'piperidine'in chem7.lower():\n",
    "        return(True)\n",
    "    else:\n",
    "        return(False)\n",
    "    \n",
    "# check for chromium\n",
    "def chro(chem8):\n",
    "    if 'chrom' in chem8.lower():\n",
    "        return(True)\n",
    "    else:\n",
    "        return(False)\n",
    "    \n",
    "# check for cadmium\n",
    "def cad(chem9):\n",
    "    if 'cadm' in chem9.lower():\n",
    "        return(True)\n",
    "    else:\n",
    "        return(False)\n",
    "    \n",
    "# check for bromine\n",
    "def bro(chem11):\n",
    "    if 'bromo' in chem11.lower():\n",
    "        return(True)\n",
    "    else:\n",
    "        return(False)\n",
    "        \n",
    "\n",
    "#apply\n",
    "df['Benzene'] = df['tox_chemical_name'].apply(benz)\n",
    "df['Phenol'] = df['tox_chemical_name'].apply(phen)\n",
    "df['Nitro'] = df['tox_chemical_name'].apply(nitr)\n",
    "df['Cyclohexene'] = df['tox_chemical_name'].apply(cycl)\n",
    "df['Chlorine'] = df['tox_chemical_name'].apply(chl)\n",
    "df['Hydrazine'] = df['tox_chemical_name'].apply(hyd)\n",
    "df['Nickel'] = df['tox_chemical_name'].apply(nic)\n",
    "df['Piperidine'] = df['tox_chemical_name'].apply(pip)\n",
    "df['Chromium'] = df['tox_chemical_name'].apply(chro)\n",
    "df['Cadmium'] = df['tox_chemical_name'].apply(cad)\n",
    "df['Bromine'] = df['tox_chemical_name'].apply(bro)"
   ]
  },
  {
   "cell_type": "markdown",
   "metadata": {},
   "source": [
    "# Correlations"
   ]
  },
  {
   "cell_type": "code",
   "execution_count": null,
   "metadata": {
    "collapsed": true
   },
   "outputs": [],
   "source": [
    "corrmat = df.corr()\n",
    "sns.heatmap(corrmat, vmax=.8, square=True)"
   ]
  },
  {
   "cell_type": "markdown",
   "metadata": {},
   "source": [
    "# Predict Suspect vs. Recognized  Using Random Forest\n",
    "This Prediction is based on toxicology categories"
   ]
  },
  {
   "cell_type": "code",
   "execution_count": null,
   "metadata": {
    "collapsed": true
   },
   "outputs": [],
   "source": [
    "from sklearn.cross_validation import train_test_split\n",
    "from sklearn.ensemble import RandomForestClassifier\n",
    "\n",
    "y = df['tox_category']\n",
    "X = df.drop(['tox_category','tox_chemical_name', 'tox_cas_edf_id'],axis=1)\n",
    "X_train, X_test, y_train, y_test = train_test_split(X, y, test_size=0.30, random_state=42)\n",
    "rfc = RandomForestClassifier(n_estimators=200)\n",
    "rfc.fit(X_train,y_train)\n",
    "rfc_pred = rfc.predict(X_test)\n",
    "print(confusion_matrix(y_test,rfc_pred))\n",
    "print('\\n')\n",
    "print(classification_report(y_test,rfc_pred))"
   ]
  },
  {
   "cell_type": "markdown",
   "metadata": {},
   "source": [
    "# Feature Importance"
   ]
  },
  {
   "cell_type": "code",
   "execution_count": null,
   "metadata": {
    "collapsed": true
   },
   "outputs": [],
   "source": [
    "feats = {} # a dict to hold feature_name: feature_importance\n",
    "for feature, importance in zip(df.drop(['tox_category','tox_chemical_name', 'tox_cas_edf_id'],axis=1).columns, rfc.feature_importances_):\n",
    "    feats[feature] = importance #add the name/value pair \n",
    "\n",
    "importances = pd.DataFrame.from_dict(feats, orient='index').rename(columns={0: 'Feature-importance'})\n",
    "importances.sort_values(by='Feature-importance',ascending=False).plot(kind='bar', rot=90)"
   ]
  },
  {
   "cell_type": "code",
   "execution_count": null,
   "metadata": {
    "collapsed": true
   },
   "outputs": [],
   "source": []
  }
 ],
 "metadata": {
  "kernelspec": {
   "display_name": "Python 3",
   "language": "python",
   "name": "python3"
  },
  "language_info": {
   "codemirror_mode": {
    "name": "ipython",
    "version": 3
   },
   "file_extension": ".py",
   "mimetype": "text/x-python",
   "name": "python",
   "nbconvert_exporter": "python",
   "pygments_lexer": "ipython3",
   "version": "3.6.1"
  }
 },
 "nbformat": 4,
 "nbformat_minor": 1
}
